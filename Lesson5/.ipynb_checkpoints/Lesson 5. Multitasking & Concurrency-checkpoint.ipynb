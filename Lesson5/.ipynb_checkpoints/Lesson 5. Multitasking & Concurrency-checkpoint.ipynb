{
 "cells": [
  {
   "cell_type": "markdown",
   "metadata": {},
   "source": [
    "# Домашнее задание"
   ]
  },
  {
   "cell_type": "markdown",
   "metadata": {},
   "source": [
    "## Задание 1\n",
    "\n",
    "В небольшом селе живут 30 людей.\n",
    "Каждый день разгневанные боги насылают одно из 4 проклятий (Боль, Жажду, Бессоницу и Дедлайн) на 10 людей. Род проклятия и персона случайны.\n",
    "Если проклятие не снять в течение дня - человек умирает.\n",
    "\n",
    "К счастью для людей, рядом с селом есть группа индусов - которое знаю как превратить баг в фичу, чтобы спасти человека от неминуемой смерти.\n",
    "Команда индусов состоит из 5 людей:\n",
    "1 - тимбилд.\n",
    "4 - знахаря. \n",
    "Каждый знахарь ответственен за свой род проклятия.\n",
    "\n",
    "Люди не знают какой род проклятия на них наложили. Поэтому они идут к индусу тимбилду - который определит его род  и отправляет к соответствующему знахарю.\n",
    "\n",
    "В среднем знахарь проводит обряд в течение 2 часов.\n",
    "\n",
    "Условия:\n",
    "- Чтобы попасть к знахарю, человек должен пройти через тимбилда.\n",
    "- Тимбилд может работать только с одним человеком. Среднее время определения рода проклятия - занимает 1 минуту.\n",
    "- Тимбилд знает, какие знахари сейчас доступны, а какие уже заняты обрядом.\n",
    "\n",
    "Задача: Организовать правильную работу индусов и спасти деревню."
   ]
  },
  {
   "cell_type": "markdown",
   "metadata": {},
   "source": [
    "## Задание 2\n",
    "\n",
    "Дано приложение, которое совершает обход сайтов по списку. Задача - реализовать это же приложение, но с использованием библиотеки asyncio.\n",
    "\n",
    "Сравните производительность обоих решений и ответьте на вопросы:\n",
    "\n",
    "1. Есть ли разница во времени выполнения и как она объясняется?\n",
    "2. Можно ли такой подход применить для обхода нескольких тысяч сайтов? Какие в этом случае возникают ограничения?"
   ]
  },
  {
   "cell_type": "code",
   "execution_count": 1,
   "metadata": {},
   "outputs": [
    {
     "name": "stdout",
     "output_type": "stream",
     "text": [
      "Sync poll took 1.9674668312072754 seconds\n"
     ]
    }
   ],
   "source": [
    "import requests\n",
    "from time import time\n",
    "\n",
    "SITES = ['www.google.com', 'www.yandex.ru', 'www.lenta.ru', 'www.rbc.ru', 'rg.ru']\n",
    "\n",
    "def get_sync():\n",
    "    t0 = time()\n",
    "    for site in SITES:\n",
    "        r = requests.get(\"https://\" + site)\n",
    "        r.status_code\n",
    "    t1 = time()\n",
    "    print(\"Sync poll took %s seconds\" % (t1-t0))\n",
    "\n",
    "get_sync()"
   ]
  },
  {
   "cell_type": "code",
   "execution_count": 9,
   "metadata": {},
   "outputs": [
    {
     "name": "stdout",
     "output_type": "stream",
     "text": [
      "<coroutine object async_foo at 0x0000019E87FD64C8>\n"
     ]
    },
    {
     "name": "stderr",
     "output_type": "stream",
     "text": [
      "C:\\ProgramData\\Anaconda3\\lib\\site-packages\\ipykernel_launcher.py:19: RuntimeWarning: coroutine 'async_foo' was never awaited\n"
     ]
    }
   ],
   "source": [
    "import requests\n",
    "from time import time\n",
    "import asyncio\n",
    "\n",
    "SITES = ['www.google.com', 'www.yandex.ru', 'www.lenta.ru', 'www.rbc.ru', 'rg.ru']\n",
    "\n",
    "\n",
    "async def get_sites(site):\n",
    "    r = await requests.get(\"https://\" + site)\n",
    "    r.status_code\n",
    "    \n",
    "async def async_foo():\n",
    "    t0 = time()\n",
    "    tasks = [asyncio.ensure_future(get_sites(site)) for i in SITES]\n",
    "    await asyncio.wait(tasks)\n",
    "    t1 = time()\n",
    "    return t1-t0\n",
    "\n",
    "print(async_foo())"
   ]
  },
  {
   "cell_type": "code",
   "execution_count": null,
   "metadata": {},
   "outputs": [],
   "source": []
  }
 ],
 "metadata": {
  "kernelspec": {
   "display_name": "Python 3",
   "language": "python",
   "name": "python3"
  },
  "language_info": {
   "codemirror_mode": {
    "name": "ipython",
    "version": 3
   },
   "file_extension": ".py",
   "mimetype": "text/x-python",
   "name": "python",
   "nbconvert_exporter": "python",
   "pygments_lexer": "ipython3",
   "version": "3.7.0"
  }
 },
 "nbformat": 4,
 "nbformat_minor": 2
}
